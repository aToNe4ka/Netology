{
 "cells": [
  {
   "cell_type": "code",
   "execution_count": null,
   "metadata": {},
   "outputs": [],
   "source": [
    "#Задание 1\n",
    "#Дана переменная, в которой хранится слово из латинских букв. Напишите код, который выводит на экран:\n",
    "\n",
    "#среднюю букву, если число букв в слове нечетное;\n",
    "#две средних буквы, если число букв четное.\n",
    "\n",
    "word = 'test'\n",
    "\n",
    "if len(word)%2==0:\n",
    "    print (word[(len(word)//2-1):(len(word)//2+1)])\n",
    "else:\n",
    "    print (word[len(word)//2])\n",
    "\n",
    "    "
   ]
  },
  {
   "cell_type": "code",
   "execution_count": null,
   "metadata": {},
   "outputs": [],
   "source": [
    "#Задание 2\n",
    "#Напишите программу, которая последовательно запрашивает у пользователя числа (по одному за раз) и после первого нуля выводит сумму всех ранее введенных чисел.\n",
    "\n",
    "number = int(input('Введите число'))\n",
    "total = 0\n",
    "\n",
    "while number != 0:\n",
    "    total += number\n",
    "    number = int(input('Введите число'))\n",
    "\n",
    "print (total)"
   ]
  },
  {
   "cell_type": "code",
   "execution_count": null,
   "metadata": {
    "scrolled": true
   },
   "outputs": [],
   "source": [
    "#Задание 3\n",
    "#Мы делаем MVP dating-сервиса, и у нас есть список парней и девушек.\n",
    "#Выдвигаем гипотезу: лучшие рекомендации мы получим, если просто отсортируем имена по алфавиту и познакомим людей с одинаковыми индексами после сортировки! Но мы не будем никого знакомить, если кто-то может остаться без пары:\n",
    "\n",
    "#Примеры работы программы:\n",
    "\n",
    "boys = ['Peter', 'Alex', 'John', 'Arthur']\n",
    "girls = ['Kate', 'Liza', 'Kira', 'Emma']\n",
    "\n",
    "if len(boys) == len(girls):\n",
    "   for i,x in zip(sorted(boys), sorted(girls)):\n",
    "        print(i, ' и ', x)\n",
    "else:\n",
    "    print('Внимание, кто-то может остаться без пары!')\n",
    "\n"
   ]
  },
  {
   "cell_type": "code",
   "execution_count": null,
   "metadata": {},
   "outputs": [],
   "source": [
    "#Задание 4\n",
    "#У нас есть список, содержащий информацию о среднедневной температуре в Фаренгейтах за произвольный период по странам (структура данных в примере). Необходимо написать код, который рассчитает среднюю температуру за период в Цельсиях(!) для каждой страны.\n",
    "\n",
    "countries_temperature = [\n",
    "    ['Thailand', [75.2, 77, 78.8, 73.4, 68, 75.2, 77]],\n",
    "    ['Germany', [57.2, 55.4, 59, 59, 53.6]],\n",
    "    ['Russia', [35.6, 37.4, 39.2, 41, 42.8, 39.2, 35.6]],\n",
    "    ['Poland', [50, 50, 53.6, 57.2, 55.4, 55.4]]\n",
    "]\n",
    "\n",
    "type(countries_temperature)\n",
    "for x,y in countries_temperature:\n",
    "    print(x,'-', round(((sum(y)/len(y)-32)*5/9),1), 'C')"
   ]
  },
  {
   "cell_type": "code",
   "execution_count": 2,
   "metadata": {},
   "outputs": [
    {
     "name": "stdout",
     "output_type": "stream",
     "text": [
      "user100\n",
      "user99\n",
      "user1001\n",
      "user99\n",
      "150\n",
      "205\n",
      "81\n",
      "200\n"
     ]
    }
   ],
   "source": [
    "#Задание 5 (необязательное)\n",
    "#Дан поток логов по количеству просмотренных страниц для каждого пользователя. Вам необходимо написать алгоритм, который считает среднее значение просмотров на пользователя. \n",
    "#Т. е. надо посчитать отношение суммы всех просмотров к количеству уникальных пользователей.\n",
    "\n",
    "stream = [\n",
    "    '2018-01-01,user100,150',\n",
    "    '2018-01-07,user99,205',\n",
    "    '2018-03-29,user1001,81',\n",
    "    '2018-01-07,user99,200' \n",
    "]\n",
    "#Результат:\n",
    "#Среднее количество просмотров на уникального пользователя: 145.33\n",
    "\n",
    "for i in stream :\n",
    "    user = i[(i.index(',')+1):i.index(',',(i.index(',')+1))]\n",
    "    print(user)\n",
    "\n",
    "for i in stream:\n",
    "    look = i[(i.index(',',(i.index(',')+1))+1):]\n",
    "    print(look)\n",
    "    \n",
    "        "
   ]
  },
  {
   "cell_type": "code",
   "execution_count": null,
   "metadata": {},
   "outputs": [],
   "source": [
    "#Задание 6 (необязательное)\n",
    "#Необходимо у пользователя запрашивать набор чисел разделенных пробелом. \n",
    "#В результате должны выводиться числа, которые повторяются в вводе более одного раза.\n",
    "\n",
    "#Примеры работы программы:\n",
    "\n",
    "#Введите числа:\n",
    "#4 8 0 3 4 2 0 3\n",
    "#Результат:\n",
    "#0 3 4\n",
    "\n",
    "number = input('Введите числа')\n",
    "number.split(' ')\n",
    "new_number = sorted(number)\n",
    "\n",
    "k = new_number[0]\n",
    "for i in new_number:\n",
    "    if i != k:\n",
    "        k = k.append(i)\n",
    "        \n",
    "print(k)      \n",
    "\n"
   ]
  },
  {
   "cell_type": "code",
   "execution_count": null,
   "metadata": {},
   "outputs": [],
   "source": []
  },
  {
   "cell_type": "code",
   "execution_count": null,
   "metadata": {},
   "outputs": [],
   "source": []
  }
 ],
 "metadata": {
  "kernelspec": {
   "display_name": "Python 3",
   "language": "python",
   "name": "python3"
  },
  "language_info": {
   "codemirror_mode": {
    "name": "ipython",
    "version": 3
   },
   "file_extension": ".py",
   "mimetype": "text/x-python",
   "name": "python",
   "nbconvert_exporter": "python",
   "pygments_lexer": "ipython3",
   "version": "3.8.5"
  }
 },
 "nbformat": 4,
 "nbformat_minor": 4
}
