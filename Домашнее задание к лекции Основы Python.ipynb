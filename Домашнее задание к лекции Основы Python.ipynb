{
 "cells": [
  {
   "cell_type": "code",
   "execution_count": 6,
   "metadata": {},
   "outputs": [
    {
     "name": "stdout",
     "output_type": "stream",
     "text": [
      "Фразы равной длины\n"
     ]
    }
   ],
   "source": [
    "#Задание 1\n",
    "#Даны 2 переменных, в которых хранятся строки произвольной длины: phrase_1 и phrase_2.\n",
    "#Напишите код, который проверяет какая из этих строк длиннее.\n",
    "phrase_1 = 'Насколько проще было бы писать программы, если бы не заказчики'\n",
    "phrase_2 = 'Насколько проще было бы писать программы, если бы не заказчики'\n",
    "#Определяем длину фразы:\n",
    "ph1 = len(phrase_1)\n",
    "ph2 = len(phrase_2)\n",
    "#условия вывода данных:\n",
    "if ph1>ph2:\n",
    "    print ('Фраза 1 длиннее фразы 2')\n",
    "elif ph2>ph1:\n",
    "    print ('Фраза 2 длиннее фразы 1')\n",
    "else:\n",
    "    print ('Фразы равной длины')\n"
   ]
  },
  {
   "cell_type": "code",
   "execution_count": 38,
   "metadata": {},
   "outputs": [
    {
     "name": "stdout",
     "output_type": "stream",
     "text": [
      "Високосный год\n"
     ]
    }
   ],
   "source": [
    "# Задание 2\n",
    "#Дана переменная, в которой хранится четырехзначное число (год). \n",
    "#Необходимо написать программу, которая выведет, является ли данный год високосным или обычным.\n",
    "year=2020\n",
    "if year%100==0 and year%400!=0 or year%100==0 and year%4!=0:\n",
    "    print('Обычный год')\n",
    "else:\n",
    "    print ('Високосный год')\n",
    "        "
   ]
  },
  {
   "cell_type": "code",
   "execution_count": 59,
   "metadata": {},
   "outputs": [
    {
     "name": "stdout",
     "output_type": "stream",
     "text": [
      "Введите день:20\n",
      "Введите месяц:Февраль\n",
      "Ваш знак зодиака: Водолей\n"
     ]
    }
   ],
   "source": [
    "#Задание 3\n",
    "#Необходимо написать программу, которая будет запрашивать у пользователя месяц и дату рождения и выводить соответствующий знак зодиака.\n",
    "\n",
    "\n",
    "date = int(input('Введите день:'))\n",
    "month = input('Введите месяц:')\n",
    "if (date>20 and month=='Март') or (date<=20 and month=='Апрель'):\n",
    "    print('Ваш знак зодиака: Овен')\n",
    "elif (date>20 and month == 'Апрель') or (date<=20 and month =='Май'):\n",
    "    print('Ваш знак зодиака: Телец')\n",
    "elif (date>20 and month == 'Май') or (date<=20 and month =='Июнь'):\n",
    "    print('Ваш знак зодиака: Близнец')\n",
    "elif (date>20 and month == 'Июнь') or (date<=20 and month =='Июль'):\n",
    "    print('Ваш знак зодиака: Рак')\n",
    "elif (date>20 and month == 'Июль') or (date<=20 and month =='Август'):\n",
    "    print('Ваш знак зодиака: Лев')\n",
    "elif (date>20 and month == 'Август') or (date<=20 and month =='Сентябрь'):\n",
    "    print('Ваш знак зодиака: Дева')\n",
    "elif (date>20 and month == 'Сентябрь') or (date<=20 and month =='Октябрь'):\n",
    "    print('Ваш знак зодиака: Весы')\n",
    "elif (date>20 and month == 'Октябрь') or (date<=20 and month =='Ноябрь'):\n",
    "    print('Ваш знак зодиака: Скорпион')\n",
    "elif (date>20 and month == 'Ноябрь') or (date<=20 and month =='Декабрь'):\n",
    "    print('Ваш знак зодиака: Стрелец')\n",
    "elif (date>20 and month == 'Декабрь') or (date<=20 and month =='Январь'):\n",
    "    print('Ваш знак зодиака: Козерог')\n",
    "elif (date>20 and month == 'Январь') or (date<=20 and month =='Февраль'):\n",
    "    print('Ваш знак зодиака: Водолей')\n",
    "else:\n",
    "    print('Ваш знак зодиака: Рыбы')\n"
   ]
  },
  {
   "cell_type": "code",
   "execution_count": 50,
   "metadata": {},
   "outputs": [
    {
     "name": "stdout",
     "output_type": "stream",
     "text": [
      "Упаковка для лыж\n"
     ]
    }
   ],
   "source": [
    "#Задание 4\n",
    "#Вам нужно написать программу для подбора упаковок по размерам товара. Размеры (ширина, длина, высота) хранятся в переменных (в сантиметрах):\n",
    "\n",
    "#Используйте следующие правила:\n",
    "\n",
    "#если каждое из трех измерений менее 15 сантиметров, то выведите на экран \"Коробка №1\";\n",
    "#если хотя бы одно из измерений больше 15 сантиметров, но менее 50 сантиметров, то выводите \"Коробка №2\";\n",
    "#если длина товара больше 2 метров, то выводите \"Упаковка для лыж\";\n",
    "#во всех остальных случаях выводите \"Стандартная коробка №3\".\n",
    "\n",
    "width = 45\n",
    "length = 205\n",
    "height = 45\n",
    "\n",
    "if width<15 and length<15 and height<15:\n",
    "        print ('Коробка №1')\n",
    "elif width<50 and length<50 and height<50:\n",
    "        print ('Коробка №2')\n",
    "elif width>200 or length>200 or height>200:\n",
    "        print ('Упаковка для лыж')\n",
    "else:\n",
    "    print('Стандартная коробка №3')\n"
   ]
  },
  {
   "cell_type": "code",
   "execution_count": 45,
   "metadata": {},
   "outputs": [
    {
     "name": "stdout",
     "output_type": "stream",
     "text": [
      "Счастливый билет\n"
     ]
    }
   ],
   "source": [
    "#Задание 5 (необязательное)\n",
    "#Дана переменная, в которой хранится шестизначное число (номер проездного билета). Напишите программу, которая будет определять, является ли данный билет \"счастливым\". \n",
    "#Билет считается счастливым, если сумма первых трех цифр совпадает с суммой последних трех цифр номера.\n",
    "number = 123321\n",
    "a = str(number)\n",
    "if (int(a[0])+int(a[1])+int(a[2]))==(int(a[3])+int(a[4])+int(a[5])):\n",
    "    print ('Счастливый билет')\n",
    "else:\n",
    "    print('Несчастливый билет')"
   ]
  },
  {
   "cell_type": "code",
   "execution_count": null,
   "metadata": {},
   "outputs": [],
   "source": []
  }
 ],
 "metadata": {
  "kernelspec": {
   "display_name": "Python 3",
   "language": "python",
   "name": "python3"
  },
  "language_info": {
   "codemirror_mode": {
    "name": "ipython",
    "version": 3
   },
   "file_extension": ".py",
   "mimetype": "text/x-python",
   "name": "python",
   "nbconvert_exporter": "python",
   "pygments_lexer": "ipython3",
   "version": "3.8.5"
  }
 },
 "nbformat": 4,
 "nbformat_minor": 4
}
