{
 "cells": [
  {
   "cell_type": "code",
   "execution_count": 3,
   "metadata": {},
   "outputs": [
    {
     "name": "stdout",
     "output_type": "stream",
     "text": [
      "{98, 35, 15, 213, 54, 119}\n"
     ]
    }
   ],
   "source": [
    "# Задание 1\n",
    "#Дана переменная, в которой хранится словарь, содержащий гео-метки для каждого пользователя (пример структуры данных приведен ниже). Вам необходимо написать программу, которая выведет на экран множество уникальных гео-меток всех пользователей.\n",
    "\n",
    "#Пример работы программы:\n",
    "\n",
    "ids = {'user1': [213, 213, 213, 15, 213],\n",
    "'user2': [54, 54, 119, 119, 119],\n",
    "'user3': [213, 98, 98, 35]}\n",
    "#Результат: {98, 35, 15, 213, 54, 119}\n",
    "\n",
    "\n",
    "geo_metrix=[]\n",
    "\n",
    "for el in ids.values():\n",
    "    for i in el:\n",
    "        if i not in geo_metrix:\n",
    "            geo_metrix.append(i)\n",
    "\n",
    "print(set(geo_metrix))\n"
   ]
  },
  {
   "cell_type": "code",
   "execution_count": 4,
   "metadata": {},
   "outputs": [
    {
     "name": "stdout",
     "output_type": "stream",
     "text": [
      "Поисковых запросов, содержащих 3 слов(а):  57.14%\n",
      "Поисковых запросов, содержащих 2 слов(а):  42.86%\n"
     ]
    }
   ],
   "source": [
    "# Задание 2\n",
    "#Дана переменная, в которой хранится список поисковых запросов пользователя (пример структуры данных приведен ниже). \n",
    "#Вам необходимо написать программу, которая выведет на экран распределение количества слов в запросах в требуемом виде.\n",
    "\n",
    "#Пример работы программы:\n",
    "\n",
    "queries = [\n",
    "'смотреть сериалы онлайн',\n",
    "'новости спорта',\n",
    "'афиша кино',\n",
    "'курс доллара',\n",
    "'сериалы этим летом',\n",
    "'курс по питону',\n",
    "'сериалы про спорт',\n",
    "]\n",
    "#Результат:\n",
    "\n",
    "#Поисковых запросов, содержащих 2 слов(а): 42.86%\n",
    "#Поисковых запросов, содержащих 3 слов(а): 57.14%\n",
    "words = []\n",
    "for el in queries:\n",
    "        words.append(el.count(' '))\n",
    "\n",
    "words_number = []      \n",
    "for i in words:\n",
    "    if i not in words_number:\n",
    "        print('Поисковых запросов, содержащих', i+1 , 'слов(а): ',\"{0:.2f}%\".format(words.count(i)/len(words)*100)) \n",
    "        words_number.append(i)\n",
    " "
   ]
  },
  {
   "cell_type": "code",
   "execution_count": 5,
   "metadata": {
    "scrolled": true
   },
   "outputs": [
    {
     "data": {
      "text/plain": [
       "[('adwords', {'revenue': 35, 'cost': 34, 'ROI': '2.94'}),\n",
       " ('facebook', {'revenue': 103, 'cost': 110, 'ROI': '-6.36'}),\n",
       " ('twitter', {'revenue': 11, 'cost': 24, 'ROI': '-54.17'}),\n",
       " ('vk', {'revenue': 103, 'cost': 98, 'ROI': '5.10'}),\n",
       " ('yandex', {'revenue': 179, 'cost': 153, 'ROI': '16.99'})]"
      ]
     },
     "execution_count": 5,
     "metadata": {},
     "output_type": "execute_result"
    }
   ],
   "source": [
    "# Задание 3\n",
    "#Дана переменная, в которой хранится информация о затратах и доходе рекламных кампаний по различным источникам. \n",
    "#Необходимо дополнить исходную структуру показателем ROI, который рассчитаем по формуле: (revenue / cost - 1) * 100\n",
    "\n",
    "results = {\n",
    "'vk': {'revenue': 103, 'cost': 98},\n",
    "'yandex': {'revenue': 179, 'cost': 153},\n",
    "'facebook': {'revenue': 103, 'cost': 110},\n",
    "'adwords': {'revenue': 35, 'cost': 34},\n",
    "'twitter': {'revenue': 11, 'cost': 24},\n",
    "}\n",
    "\n",
    "\n",
    "for i in results.values():\n",
    "    new = {'ROI': (\"{0:.2f}\".format((i['revenue']/i['cost']-1)*100))}\n",
    "    i.update(new)\n",
    "        \n",
    "sorted(results.items(),key=lambda x:x[0])\n",
    "\n",
    "    "
   ]
  },
  {
   "cell_type": "code",
   "execution_count": 6,
   "metadata": {},
   "outputs": [
    {
     "name": "stdout",
     "output_type": "stream",
     "text": [
      "Максимальный объем продаж на рекламном канале: vk\n"
     ]
    }
   ],
   "source": [
    "# Задание 4\n",
    "#Дана переменная, в которой хранится статистика рекламных каналов по объемам продаж (пример структуры данных приведен ниже).\n",
    "#Напишите программу, которая возвращает название канала с максимальным объемом продаж.\n",
    "\n",
    "\n",
    "stats = {'facebook': 55, 'yandex': 115,'vk': 120, 'google': 99, 'email': 42, 'ok': 98}\n",
    "maximum = 0\n",
    "for i in stats.values():\n",
    "    if i > maximum:\n",
    "        maximum = i\n",
    "        \n",
    "for k in stats.items():\n",
    "    if k[1] == maximum:\n",
    "        print('Максимальный объем продаж на рекламном канале: ' + k[0])\n",
    "        \n"
   ]
  },
  {
   "cell_type": "markdown",
   "metadata": {},
   "source": [
    "# Задание 5 (необязательно)\n",
    "Дан список произвольной длины. Необходимо написать код, который на основе исходного списка составит словарь такого уровня вложенности, какова длина исхондого списка."
   ]
  },
  {
   "cell_type": "code",
   "execution_count": 10,
   "metadata": {},
   "outputs": [
    {
     "name": "stdout",
     "output_type": "stream",
     "text": [
      "{'2018-01-01': {'yandex': {'cpc': 100}}}\n"
     ]
    }
   ],
   "source": [
    "my_list = ['2018-01-01', 'yandex', 'cpc', 100]\n",
    "#Результат: {‘2018-01-01’: {‘yandex’: {‘cpc’: 100}}}\n",
    "x = -1\n",
    "key = my_list[-1] \n",
    "units = -len(my_list)\n",
    "\n",
    "while x > units:\n",
    "    k = x -1\n",
    "    new_part = my_list[k]\n",
    "    total = {my_list[k]:key}\n",
    "    key = total\n",
    "    x = x - 1\n",
    "      \n",
    "\n",
    "print(total)      \n",
    "\n"
   ]
  },
  {
   "cell_type": "markdown",
   "metadata": {},
   "source": [
    "# Задание 6 (необязательно)\n",
    "Дана книга рецептов с информацией о том, сколько ингредиентов нужно для приготовления блюда в расчете на одну порцию (пример данных представлен ниже).\n",
    "Напишите программу, которая будет запрашивать у пользователя количество порций для приготовления этих блюд и отображать информацию о суммарном количестве требуемых ингредиентов в указанном виде.\n"
   ]
  },
  {
   "cell_type": "code",
   "execution_count": 47,
   "metadata": {},
   "outputs": [
    {
     "ename": "IndentationError",
     "evalue": "unindent does not match any outer indentation level (<tokenize>, line 42)",
     "output_type": "error",
     "traceback": [
      "\u001b[1;36m  File \u001b[1;32m\"<tokenize>\"\u001b[1;36m, line \u001b[1;32m42\u001b[0m\n\u001b[1;33m    print(my_list())\u001b[0m\n\u001b[1;37m    ^\u001b[0m\n\u001b[1;31mIndentationError\u001b[0m\u001b[1;31m:\u001b[0m unindent does not match any outer indentation level\n"
     ]
    }
   ],
   "source": [
    "cook_book = {\n",
    "'салат': [\n",
    "{'ingridient_name': 'сыр', 'quantity': 50, 'measure': 'гр'},\n",
    "{'ingridient_name': 'томаты', 'quantity': 2, 'measure': 'шт'},\n",
    "{'ingridient_name': 'огурцы', 'quantity': 20, 'measure': 'гр'},\n",
    "{'ingridient_name': 'маслины', 'quantity': 10, 'measure': 'гр'},\n",
    "{'ingridient_name': 'оливковое масло', 'quantity': 20, 'measure': 'мл'},\n",
    "{'ingridient_name': 'салат', 'quantity': 10, 'measure': 'гр'},\n",
    "{'ingridient_name': 'перец', 'quantity': 20, 'measure': 'гр'}\n",
    "],\n",
    "'пицца': [\n",
    "{'ingridient_name': 'сыр', 'quantity': 20, 'measure': 'гр'},\n",
    "{'ingridient_name': 'колбаса', 'quantity': 30, 'measure': 'гр'},\n",
    "{'ingridient_name': 'бекон', 'quantity': 30, 'measure': 'гр'},\n",
    "{'ingridient_name': 'оливки', 'quantity': 10, 'measure': 'гр'},\n",
    "{'ingridient_name': 'томаты', 'quantity': 20, 'measure': 'гр'},\n",
    "{'ingridient_name': 'тесто', 'quantity': 100, 'measure': 'гр'},\n",
    "],\n",
    "'лимонад': [\n",
    "{'ingridient_name': 'лимон', 'quantity': 1, 'measure': 'шт'},\n",
    "{'ingridient_name': 'вода', 'quantity': 200, 'measure': 'мл'},\n",
    "{'ingridient_name': 'сахар', 'quantity': 10, 'measure': 'гр'},\n",
    "{'ingridient_name': 'лайм', 'quantity': 20, 'measure': 'гр'},\n",
    "]\n",
    "}\n",
    "\n",
    "#number = int(input('Введите количество порций:'))\n",
    "my_list = []\n",
    "shop_dict = {}\n",
    "\n",
    "for dish in cook_book.values():\n",
    "    for ingr in dish:\n",
    "    key = (ingr['ingridient_name'], ingr['measure'])\n",
    "        gramm = [ingr['ingridient_name'], ingr['quantity'], ingr['measure']\n",
    "        if key not in shop_dict:\n",
    "            shop_dict.setdefault(key)\n",
    "            my_list.appened(gramm)\n",
    "        else:\n",
    "            my_list.get(ingr['quantity'])\n",
    "       \n",
    "            \n",
    " print(my_list           \n",
    "        \n",
    "        \n",
    "        #if i ==k[0]:\n",
    "        #    menu = {i['ingridient_name']:i['quantity']}\n",
    "         #   print(menu)\n",
    "      #  else:\n",
    "       #     menu.setdefault({i['ingridient_name']:i['quantity']})\n",
    "\n",
    "\n"
   ]
  },
  {
   "cell_type": "code",
   "execution_count": null,
   "metadata": {},
   "outputs": [],
   "source": []
  }
 ],
 "metadata": {
  "kernelspec": {
   "display_name": "Python 3",
   "language": "python",
   "name": "python3"
  },
  "language_info": {
   "codemirror_mode": {
    "name": "ipython",
    "version": 3
   },
   "file_extension": ".py",
   "mimetype": "text/x-python",
   "name": "python",
   "nbconvert_exporter": "python",
   "pygments_lexer": "ipython3",
   "version": "3.8.5"
  }
 },
 "nbformat": 4,
 "nbformat_minor": 4
}

